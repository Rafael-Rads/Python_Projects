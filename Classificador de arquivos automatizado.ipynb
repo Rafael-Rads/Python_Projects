{
 "cells": [
  {
   "cell_type": "code",
   "execution_count": 11,
   "id": "6872a3ec",
   "metadata": {},
   "outputs": [],
   "source": [
    "import os, shutil "
   ]
  },
  {
   "cell_type": "code",
   "execution_count": 12,
   "id": "9ffb19d2",
   "metadata": {},
   "outputs": [],
   "source": [
    "# 1º passo é escolher o diretório que você quer rodar o script, no meu caso escolhi a pasta Documentos.\n",
    "# 2º Para não ocorrer erro de sintaxe: Trocar as '\\' por '/' assim:\n",
    "# C:\\Users\\Rafael\\Documentos\\ ficará C:/Users/Rafael/Documentos/\n",
    "\n",
    "path = r\"C:/Users/Rafael/Documentos/\""
   ]
  },
  {
   "cell_type": "code",
   "execution_count": null,
   "id": "8bcd8349",
   "metadata": {},
   "outputs": [],
   "source": [
    "os.listdir(path)\n",
    "\n",
    "#listará todos os arquivos do diretório escolhido como path"
   ]
  },
  {
   "cell_type": "code",
   "execution_count": 14,
   "id": "8859c43f",
   "metadata": {},
   "outputs": [],
   "source": [
    "file_name = os.listdir(path)"
   ]
  },
  {
   "cell_type": "code",
   "execution_count": 16,
   "id": "8f1c8731",
   "metadata": {},
   "outputs": [],
   "source": [
    "# para criar mais pastas basta adiciona-lás a lista na variável folders_names\n",
    "# ex.: folders_names = ['csv files','pdf files', 'doc files]\n",
    "\n",
    "folders_names = ['pdf files', 'doc files']\n",
    "\n",
    "for loop in range(0,2):\n",
    "    if not os.path.exists(path + folders_names[loop]):\n",
    "        os.makedirs(path + folders_names[loop])\n",
    "\n",
    "for file in file_name:\n",
    "    if \".pdf\" in file and not os.path.exists(path + \"pdf files/\" + file):\n",
    "        shutil.move(path + file, path + \"pdf files/\" + file)\n",
    "    elif \".doc\" in file and not os.path.exists(path + \"doc files/\" + file):\n",
    "        shutil.move(path + file, path + \"doc files/\" + file)\n",
    "        \n",
    "# para criar mais extensões basta seguir o padrão do elif e alterar as strings, ex.:\n",
    "# adicinar uma extensão .csv\n",
    "# elif \".csv\" in file and not os.path.exists(path + \"csv files/\" + file):\n",
    "#    shutil.move(path + file, path + \"csv files/\" + file)"
   ]
  },
  {
   "cell_type": "code",
   "execution_count": 15,
   "id": "14a76fea",
   "metadata": {},
   "outputs": [],
   "source": []
  },
  {
   "cell_type": "code",
   "execution_count": null,
   "id": "dc865421",
   "metadata": {},
   "outputs": [],
   "source": []
  },
  {
   "cell_type": "code",
   "execution_count": null,
   "id": "17f2acf4",
   "metadata": {},
   "outputs": [],
   "source": []
  }
 ],
 "metadata": {
  "kernelspec": {
   "display_name": "Python 3 (ipykernel)",
   "language": "python",
   "name": "python3"
  },
  "language_info": {
   "codemirror_mode": {
    "name": "ipython",
    "version": 3
   },
   "file_extension": ".py",
   "mimetype": "text/x-python",
   "name": "python",
   "nbconvert_exporter": "python",
   "pygments_lexer": "ipython3",
   "version": "3.10.9"
  }
 },
 "nbformat": 4,
 "nbformat_minor": 5
}
