{
 "cells": [
  {
   "cell_type": "code",
   "execution_count": null,
   "id": "999f2ea5",
   "metadata": {},
   "outputs": [],
   "source": [
    "nome = input('Digite seu nome: ')\n",
    "    \n",
    "altura = float(input('Digite sua altura em metros: '))\n",
    "\n",
    "peso = float(input('Digite seu peso em quilos: '))\n",
    "\n",
    "IMC = (peso) / (altura**2)\n",
    "\n",
    "print(\"Seu IMC é:\", float(round(IMC,1)))\n",
    "\n",
    "if IMC>0:\n",
    "    if (IMC<18.5):\n",
    "        print(nome +\", Você está com Baixo Peso.\")\n",
    "    elif (IMC<=24.9):\n",
    "        print(nome +\", Você está com Peso Normal.\")\n",
    "    elif (IMC<29.9):\n",
    "        print(nome +\", Você está com Sobrepeso.\")\n",
    "    elif (IMC<39.9):\n",
    "        print(nome +\", Você está com Obesidade.\")\n",
    "    else:\n",
    "        print(nome +\", Você está com Obesidade Grave.\")\n"
   ]
  },
  {
   "cell_type": "code",
   "execution_count": null,
   "id": "4e08335e",
   "metadata": {},
   "outputs": [],
   "source": []
  },
  {
   "cell_type": "code",
   "execution_count": null,
   "id": "1659c6ac",
   "metadata": {},
   "outputs": [],
   "source": []
  },
  {
   "cell_type": "code",
   "execution_count": null,
   "id": "c7de399a",
   "metadata": {},
   "outputs": [],
   "source": []
  },
  {
   "cell_type": "code",
   "execution_count": null,
   "id": "6185bb3a",
   "metadata": {},
   "outputs": [],
   "source": []
  },
  {
   "cell_type": "code",
   "execution_count": null,
   "id": "2288517c",
   "metadata": {},
   "outputs": [],
   "source": []
  },
  {
   "cell_type": "code",
   "execution_count": null,
   "id": "f37e5dfc",
   "metadata": {},
   "outputs": [],
   "source": []
  },
  {
   "cell_type": "code",
   "execution_count": null,
   "id": "442282a0",
   "metadata": {},
   "outputs": [],
   "source": []
  }
 ],
 "metadata": {
  "kernelspec": {
   "display_name": "Python 3 (ipykernel)",
   "language": "python",
   "name": "python3"
  },
  "language_info": {
   "codemirror_mode": {
    "name": "ipython",
    "version": 3
   },
   "file_extension": ".py",
   "mimetype": "text/x-python",
   "name": "python",
   "nbconvert_exporter": "python",
   "pygments_lexer": "ipython3",
   "version": "3.10.9"
  }
 },
 "nbformat": 4,
 "nbformat_minor": 5
}
